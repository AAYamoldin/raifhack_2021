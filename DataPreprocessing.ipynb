{
 "nbformat": 4,
 "nbformat_minor": 0,
 "metadata": {
  "colab": {
   "name": "DataPreprocessing.ipynb",
   "provenance": [],
   "mount_file_id": "1eL9zx0UGo40xtRZvXj_rpw5_JrC-6euY",
   "authorship_tag": "ABX9TyOxVeSofKiU0sjjZ9gE+xT+"
  },
  "kernelspec": {
   "name": "python3",
   "display_name": "Python 3"
  },
  "language_info": {
   "name": "python"
  }
 },
 "cells": [
  {
   "cell_type": "markdown",
   "metadata": {
    "id": "y_DTzdp9QFOL"
   },
   "source": [
    "Подключение библиотек"
   ]
  },
  {
   "cell_type": "code",
   "metadata": {
    "id": "_sJoVAnAQUFj",
    "executionInfo": {
     "status": "ok",
     "timestamp": 1632480906863,
     "user_tz": -180,
     "elapsed": 241,
     "user": {
      "displayName": "Информатика Прикладная",
      "photoUrl": "https://lh3.googleusercontent.com/a-/AOh14GgMo07jw7R_JW-UtnOStQLljeNb895P_QaAYr4S=s64",
      "userId": "15385437079936711398"
     }
    }
   },
   "source": [
    "import pandas as pd\n",
    "import matplotlib.pyplot as plt\n",
    "from datetime import datetime"
   ],
   "execution_count": 4,
   "outputs": []
  },
  {
   "cell_type": "code",
   "metadata": {
    "colab": {
     "base_uri": "https://localhost:8080/",
     "height": 313
    },
    "id": "0M9WzRcKPcBs",
    "executionInfo": {
     "status": "ok",
     "timestamp": 1632476516458,
     "user_tz": -180,
     "elapsed": 685,
     "user": {
      "displayName": "Информатика Прикладная",
      "photoUrl": "https://lh3.googleusercontent.com/a-/AOh14GgMo07jw7R_JW-UtnOStQLljeNb895P_QaAYr4S=s64",
      "userId": "15385437079936711398"
     }
    },
    "outputId": "70d2901e-e923-45c7-9a25-05d13fa2ca38"
   },
   "source": [
    "df = pd.read_excel('./Data/empty.xlsx')\n",
    "df.head()"
   ],
   "execution_count": 5,
   "outputs": [
    {
     "data": {
      "text/plain": "   Unnamed: 0  id            region city  street  floor  realty_type  \\\n0           0   0         Tatarstan    K       1      7            2   \n1           1   1    Bryansk region    S       4      5            4   \n2           2   2     Kaluga region    D       2      8            3   \n3           3   3     Ryazan region    G       3      4            2   \n4           4   4  Chuvash Republic    F       1      2            1   \n\n         date        lng        lat  ...  osm_crossing_closest_dist  \\\n0  01.05.2021  55.821856  50.821856  ...                          3   \n1  09.05.2021  58.821856  54.821856  ...                          1   \n2  01.06.2021  58.821856  58.821856  ...                          3   \n3  15.11.2021  54.821856  53.821856  ...                          6   \n4  23.05.2020  67.821856  61.821856  ...                          2   \n\n   reform_count_of_houses_1000  reform_count_of_houses_500  \\\n0                            5                           1   \n1                            7                           4   \n2                            1                           3   \n3                            1                           8   \n4                            5                           6   \n\n   reform_mean_floor_count_500  reform_mean_floor_count_1000  \\\n0                            2                             3   \n1                            5                             4   \n2                            4                             3   \n3                            3                             7   \n4                            5                             1   \n\n   reform_mean_year_building_500  reform_mean_year_building_1000  \\\n0                              4                               5   \n1                              6                               6   \n2                              2                               4   \n3                              5                               4   \n4                              3                               8   \n\n   reform_house_population_500  reform_house_population_1000  price_type  \n0                            7                             6           0  \n1                            7                             3           1  \n2                            4                             2           1  \n3                            7                             5           1  \n4                            8                             4           0  \n\n[5 rows x 77 columns]",
      "text/html": "<div>\n<style scoped>\n    .dataframe tbody tr th:only-of-type {\n        vertical-align: middle;\n    }\n\n    .dataframe tbody tr th {\n        vertical-align: top;\n    }\n\n    .dataframe thead th {\n        text-align: right;\n    }\n</style>\n<table border=\"1\" class=\"dataframe\">\n  <thead>\n    <tr style=\"text-align: right;\">\n      <th></th>\n      <th>Unnamed: 0</th>\n      <th>id</th>\n      <th>region</th>\n      <th>city</th>\n      <th>street</th>\n      <th>floor</th>\n      <th>realty_type</th>\n      <th>date</th>\n      <th>lng</th>\n      <th>lat</th>\n      <th>...</th>\n      <th>osm_crossing_closest_dist</th>\n      <th>reform_count_of_houses_1000</th>\n      <th>reform_count_of_houses_500</th>\n      <th>reform_mean_floor_count_500</th>\n      <th>reform_mean_floor_count_1000</th>\n      <th>reform_mean_year_building_500</th>\n      <th>reform_mean_year_building_1000</th>\n      <th>reform_house_population_500</th>\n      <th>reform_house_population_1000</th>\n      <th>price_type</th>\n    </tr>\n  </thead>\n  <tbody>\n    <tr>\n      <th>0</th>\n      <td>0</td>\n      <td>0</td>\n      <td>Tatarstan</td>\n      <td>K</td>\n      <td>1</td>\n      <td>7</td>\n      <td>2</td>\n      <td>01.05.2021</td>\n      <td>55.821856</td>\n      <td>50.821856</td>\n      <td>...</td>\n      <td>3</td>\n      <td>5</td>\n      <td>1</td>\n      <td>2</td>\n      <td>3</td>\n      <td>4</td>\n      <td>5</td>\n      <td>7</td>\n      <td>6</td>\n      <td>0</td>\n    </tr>\n    <tr>\n      <th>1</th>\n      <td>1</td>\n      <td>1</td>\n      <td>Bryansk region</td>\n      <td>S</td>\n      <td>4</td>\n      <td>5</td>\n      <td>4</td>\n      <td>09.05.2021</td>\n      <td>58.821856</td>\n      <td>54.821856</td>\n      <td>...</td>\n      <td>1</td>\n      <td>7</td>\n      <td>4</td>\n      <td>5</td>\n      <td>4</td>\n      <td>6</td>\n      <td>6</td>\n      <td>7</td>\n      <td>3</td>\n      <td>1</td>\n    </tr>\n    <tr>\n      <th>2</th>\n      <td>2</td>\n      <td>2</td>\n      <td>Kaluga region</td>\n      <td>D</td>\n      <td>2</td>\n      <td>8</td>\n      <td>3</td>\n      <td>01.06.2021</td>\n      <td>58.821856</td>\n      <td>58.821856</td>\n      <td>...</td>\n      <td>3</td>\n      <td>1</td>\n      <td>3</td>\n      <td>4</td>\n      <td>3</td>\n      <td>2</td>\n      <td>4</td>\n      <td>4</td>\n      <td>2</td>\n      <td>1</td>\n    </tr>\n    <tr>\n      <th>3</th>\n      <td>3</td>\n      <td>3</td>\n      <td>Ryazan region</td>\n      <td>G</td>\n      <td>3</td>\n      <td>4</td>\n      <td>2</td>\n      <td>15.11.2021</td>\n      <td>54.821856</td>\n      <td>53.821856</td>\n      <td>...</td>\n      <td>6</td>\n      <td>1</td>\n      <td>8</td>\n      <td>3</td>\n      <td>7</td>\n      <td>5</td>\n      <td>4</td>\n      <td>7</td>\n      <td>5</td>\n      <td>1</td>\n    </tr>\n    <tr>\n      <th>4</th>\n      <td>4</td>\n      <td>4</td>\n      <td>Chuvash Republic</td>\n      <td>F</td>\n      <td>1</td>\n      <td>2</td>\n      <td>1</td>\n      <td>23.05.2020</td>\n      <td>67.821856</td>\n      <td>61.821856</td>\n      <td>...</td>\n      <td>2</td>\n      <td>5</td>\n      <td>6</td>\n      <td>5</td>\n      <td>1</td>\n      <td>3</td>\n      <td>8</td>\n      <td>8</td>\n      <td>4</td>\n      <td>0</td>\n    </tr>\n  </tbody>\n</table>\n<p>5 rows × 77 columns</p>\n</div>"
     },
     "execution_count": 5,
     "metadata": {},
     "output_type": "execute_result"
    }
   ]
  },
  {
   "cell_type": "code",
   "metadata": {
    "colab": {
     "base_uri": "https://localhost:8080/"
    },
    "id": "hKYm0tCeRw2J",
    "executionInfo": {
     "status": "ok",
     "timestamp": 1632476544874,
     "user_tz": -180,
     "elapsed": 245,
     "user": {
      "displayName": "Информатика Прикладная",
      "photoUrl": "https://lh3.googleusercontent.com/a-/AOh14GgMo07jw7R_JW-UtnOStQLljeNb895P_QaAYr4S=s64",
      "userId": "15385437079936711398"
     }
    },
    "outputId": "51956fec-48ac-4c0f-8a1a-9cfaec52b762"
   },
   "source": [
    "df.info()"
   ],
   "execution_count": 6,
   "outputs": [
    {
     "name": "stdout",
     "output_type": "stream",
     "text": [
      "<class 'pandas.core.frame.DataFrame'>\n",
      "RangeIndex: 5 entries, 0 to 4\n",
      "Data columns (total 77 columns):\n",
      " #   Column                               Non-Null Count  Dtype  \n",
      "---  ------                               --------------  -----  \n",
      " 0   Unnamed: 0                           5 non-null      int64  \n",
      " 1   id                                   5 non-null      int64  \n",
      " 2   region                               5 non-null      object \n",
      " 3   city                                 5 non-null      object \n",
      " 4   street                               5 non-null      int64  \n",
      " 5   floor                                5 non-null      int64  \n",
      " 6   realty_type                          5 non-null      int64  \n",
      " 7   date                                 5 non-null      object \n",
      " 8   lng                                  5 non-null      float64\n",
      " 9   lat                                  5 non-null      float64\n",
      " 10  per_square_meter_price               5 non-null      float64\n",
      " 11  osm_catering_points_in_0.001         5 non-null      int64  \n",
      " 12  osm_catering_points_in_0.005         5 non-null      int64  \n",
      " 13  osm_catering_points_in_0.0075        5 non-null      int64  \n",
      " 14  osm_catering_points_in_0.01          5 non-null      int64  \n",
      " 15  osm_shops_points_in_0.001            5 non-null      int64  \n",
      " 16  osm_shops_points_in_0.005            5 non-null      int64  \n",
      " 17  osm_shops_points_in_0.0075           5 non-null      int64  \n",
      " 18  osm_shops_points_in_0.01             5 non-null      int64  \n",
      " 19  osm_offices_points_in_0.001          5 non-null      int64  \n",
      " 20  osm_offices_points_in_0.005          5 non-null      int64  \n",
      " 21  osm_offices_points_in_0.0075         5 non-null      int64  \n",
      " 22  osm_offices_points_in_0.01           5 non-null      int64  \n",
      " 23  osm_finance_points_in_0.001          5 non-null      int64  \n",
      " 24  osm_finance_points_in_0.005          5 non-null      int64  \n",
      " 25  osm_finance_points_in_0.0075         5 non-null      int64  \n",
      " 26  osm_finance_points_in_0.01           5 non-null      int64  \n",
      " 27  osm_healthcare_points_in_0.005       5 non-null      int64  \n",
      " 28  osm_healthcare_points_in_0.0075      5 non-null      int64  \n",
      " 29  osm_healthcare_points_in_0.01        5 non-null      int64  \n",
      " 30  osm_leisure_points_in_0.005          5 non-null      int64  \n",
      " 31  osm_leisure_points_in_0.0075         5 non-null      int64  \n",
      " 32  osm_leisure_points_in_0.01           5 non-null      int64  \n",
      " 33  osm_historic_points_in_0.005         5 non-null      int64  \n",
      " 34  osm_historic_points_in_0.0075        5 non-null      int64  \n",
      " 35  osm_historic_points_in_0.01          5 non-null      int64  \n",
      " 36  osm_building_points_in_0.001         5 non-null      int64  \n",
      " 37  osm_building_points_in_0.005         5 non-null      int64  \n",
      " 38  osm_building_points_in_0.0075        5 non-null      int64  \n",
      " 39  osm_building_points_in_0.01          5 non-null      int64  \n",
      " 40  osm_hotels_points_in_0.005           5 non-null      int64  \n",
      " 41  osm_hotels_points_in_0.0075          5 non-null      int64  \n",
      " 42  osm_hotels_points_in_0.01            5 non-null      int64  \n",
      " 43  osm_culture_points_in_0.001          5 non-null      int64  \n",
      " 44  osm_culture_points_in_0.005          5 non-null      int64  \n",
      " 45  osm_culture_points_in_0.0075         5 non-null      int64  \n",
      " 46  osm_culture_points_in_0.01           5 non-null      int64  \n",
      " 47  osm_amenity_points_in_0.001          5 non-null      int64  \n",
      " 48  osm_amenity_points_in_0.005          5 non-null      int64  \n",
      " 49  osm_amenity_points_in_0.0075         5 non-null      int64  \n",
      " 50  osm_amenity_points_in_0.01           5 non-null      int64  \n",
      " 51  osm_train_stop_points_in_0.005       5 non-null      int64  \n",
      " 52  osm_train_stop_points_in_0.0075      5 non-null      int64  \n",
      " 53  osm_train_stop_points_in_0.01        5 non-null      int64  \n",
      " 54  osm_transport_stop_points_in_0.005   5 non-null      int64  \n",
      " 55  osm_transport_stop_points_in_0.0075  5 non-null      int64  \n",
      " 56  osm_transport_stop_points_in_0.01    5 non-null      int64  \n",
      " 57  osm_crossing_points_in_0.001         5 non-null      int64  \n",
      " 58  osm_crossing_points_in_0.005         5 non-null      int64  \n",
      " 59  osm_crossing_points_in_0.0075        5 non-null      int64  \n",
      " 60  osm_crossing_points_in_0.01          5 non-null      int64  \n",
      " 61  osm_city_nearest_name                5 non-null      object \n",
      " 62  osm_city_nearest_population          5 non-null      int64  \n",
      " 63  osm_city_closest_dist                5 non-null      int64  \n",
      " 64  osm_subway_closest_dist              5 non-null      int64  \n",
      " 65  osm_train_stop_closest_dist          5 non-null      int64  \n",
      " 66  osm_transport_stop_closest_dist      5 non-null      int64  \n",
      " 67  osm_crossing_closest_dist            5 non-null      int64  \n",
      " 68  reform_count_of_houses_1000          5 non-null      int64  \n",
      " 69  reform_count_of_houses_500           5 non-null      int64  \n",
      " 70  reform_mean_floor_count_500          5 non-null      int64  \n",
      " 71  reform_mean_floor_count_1000         5 non-null      int64  \n",
      " 72  reform_mean_year_building_500        5 non-null      int64  \n",
      " 73  reform_mean_year_building_1000       5 non-null      int64  \n",
      " 74  reform_house_population_500          5 non-null      int64  \n",
      " 75  reform_house_population_1000         5 non-null      int64  \n",
      " 76  price_type                           5 non-null      int64  \n",
      "dtypes: float64(3), int64(70), object(4)\n",
      "memory usage: 3.1+ KB\n"
     ]
    }
   ]
  },
  {
   "cell_type": "markdown",
   "metadata": {
    "id": "RmlPpsgnTet2"
   },
   "source": [
    "Данные, которые первоначально хочется оставить:\n",
    "\n",
    "region  - one-hot-coding\n",
    "\n",
    "floor \n",
    "\n",
    "realty_type - one-hot-coding\n",
    "\n",
    "date - стоит вытащить отсюда месяц и день недели\n",
    "\n",
    "lng - масштабировать\n",
    "\n",
    "lat\n",
    "\n",
    "per_square_meter_price\n",
    "\n",
    "osm_catering_points_in_0.01  \n",
    "\n",
    "osm_shops_points_in_0.01 \n",
    "\n",
    "osm_offices_points_in_0.01\n",
    "\n",
    "osm_finance_points_in_0.01\n",
    "\n",
    "osm_healthcare_points_in_0.01\n",
    "\n",
    "osm_leisure_points_in_0.01 \n",
    "\n",
    "osm_historic_points_in_0.01\n",
    "\n",
    "osm_building_points_in_0.01 \n",
    "\n",
    "osm_hotels_points_in_0.01\n",
    "\n",
    "osm_culture_points_in_0.01 \n",
    "\n",
    "osm_amenity_points_in_0.01\n",
    "\n",
    "osm_train_stop_points_in_0.01 \n",
    "\n",
    "osm_transport_stop_points_in_0.01 \n",
    "\n",
    "osm_crossing_points_in_0.01\n",
    "\n",
    "osm_city_nearest_population  \n",
    "\n",
    "osm_city_closest_dist\n",
    "\n",
    "osm_subway_closest_dist\n",
    "\n",
    "osm_train_stop_closest_dist \n",
    "\n",
    "osm_transport_stop_closest_dist  \n",
    "\n",
    "osm_crossing_closest_dist\n",
    "\n",
    "reform_count_of_houses_1000 \n",
    "\n",
    "reform_mean_floor_count_1000\n",
    "\n",
    "reform_mean_year_building_1000 \n",
    "\n",
    "reform_house_population_1000\n",
    "\n",
    "price_type \n",
    "\n",
    "\n"
   ]
  },
  {
   "cell_type": "markdown",
   "metadata": {
    "id": "7DPvRW9TIkwP"
   },
   "source": [
    "## Просмотр данных"
   ]
  },
  {
   "cell_type": "markdown",
   "metadata": {
    "id": "wdElgP3nMHJC"
   },
   "source": [
    "### Region"
   ]
  },
  {
   "cell_type": "markdown",
   "metadata": {
    "id": "SqqhGun3MF1r"
   },
   "source": [
    ""
   ]
  },
  {
   "cell_type": "code",
   "metadata": {
    "colab": {
     "base_uri": "https://localhost:8080/",
     "height": 645
    },
    "id": "EBHSR8KSItU-",
    "executionInfo": {
     "status": "ok",
     "timestamp": 1632478248667,
     "user_tz": -180,
     "elapsed": 716,
     "user": {
      "displayName": "Информатика Прикладная",
      "photoUrl": "https://lh3.googleusercontent.com/a-/AOh14GgMo07jw7R_JW-UtnOStQLljeNb895P_QaAYr4S=s64",
      "userId": "15385437079936711398"
     }
    },
    "outputId": "291b7759-baa4-4b0a-db7d-30a273f94175"
   },
   "source": [
    "#распределение данных\n",
    "df['region'].value_counts().plot(kind='bar')\n",
    "#зависимость целевой переменной\n",
    "df.boxplot(column=[\"per_square_meter_price\"], by=['region'])"
   ],
   "execution_count": 7,
   "outputs": [
    {
     "data": {
      "text/plain": "<AxesSubplot:title={'center':'per_square_meter_price'}, xlabel='[region]'>"
     },
     "execution_count": 7,
     "metadata": {},
     "output_type": "execute_result"
    },
    {
     "data": {
      "text/plain": "<Figure size 432x288 with 1 Axes>",
      "image/png": "[encoded data removed]"
     },
     "metadata": {
      "needs_background": "light"
     },
     "output_type": "display_data"
    },
    {
     "data": {
      "text/plain": "<Figure size 432x288 with 1 Axes>",
      "image/png": "[encoded data removed]"
     },
     "metadata": {
      "needs_background": "light"
     },
     "output_type": "display_data"
    }
   ]
  },
  {
   "cell_type": "markdown",
   "metadata": {
    "id": "2QC-k_-WSk6I"
   },
   "source": [
    "### floor"
   ]
  },
  {
   "cell_type": "code",
   "metadata": {
    "colab": {
     "base_uri": "https://localhost:8080/",
     "height": 563
    },
    "id": "4FL6pPSoSoNH",
    "executionInfo": {
     "status": "ok",
     "timestamp": 1632478570590,
     "user_tz": -180,
     "elapsed": 729,
     "user": {
      "displayName": "Информатика Прикладная",
      "photoUrl": "https://lh3.googleusercontent.com/a-/AOh14GgMo07jw7R_JW-UtnOStQLljeNb895P_QaAYr4S=s64",
      "userId": "15385437079936711398"
     }
    },
    "outputId": "084e3675-7b9c-4038-8586-99301c56fc76"
   },
   "source": [
    "#распределение данных\n",
    "df['floor'].value_counts().plot(kind='bar')\n",
    "#зависимость целевой переменной\n",
    "df.boxplot(column=['per_square_meter_price'], by=['floor'])"
   ],
   "execution_count": 8,
   "outputs": [
    {
     "data": {
      "text/plain": "<AxesSubplot:title={'center':'per_square_meter_price'}, xlabel='[floor]'>"
     },
     "execution_count": 8,
     "metadata": {},
     "output_type": "execute_result"
    },
    {
     "data": {
      "text/plain": "<Figure size 432x288 with 1 Axes>",
      "image/png": "[encoded data removed]"
     },
     "metadata": {
      "needs_background": "light"
     },
     "output_type": "display_data"
    },
    {
     "data": {
      "text/plain": "<Figure size 432x288 with 1 Axes>",
      "image/png": "[encoded data removed]"
     },
     "metadata": {
      "needs_background": "light"
     },
     "output_type": "display_data"
    }
   ]
  },
  {
   "cell_type": "markdown",
   "metadata": {
    "id": "gOdr1hYqTVAW"
   },
   "source": [
    "### realty_type"
   ]
  },
  {
   "cell_type": "code",
   "metadata": {
    "colab": {
     "base_uri": "https://localhost:8080/",
     "height": 619
    },
    "id": "-N-vhkEFTWfe",
    "executionInfo": {
     "status": "ok",
     "timestamp": 1632478580311,
     "user_tz": -180,
     "elapsed": 839,
     "user": {
      "displayName": "Информатика Прикладная",
      "photoUrl": "https://lh3.googleusercontent.com/a-/AOh14GgMo07jw7R_JW-UtnOStQLljeNb895P_QaAYr4S=s64",
      "userId": "15385437079936711398"
     }
    },
    "outputId": "82f59c6c-06e4-466d-8cd2-265ca3c81ccb"
   },
   "source": [
    "#распределение данных\n",
    "df['realty_type'].value_counts().plot(kind='bar')\n",
    "#зависимость целевой переменной\n",
    "df.boxplot(column=['per_square_meter_price'], by=['realty_type'])"
   ],
   "execution_count": 9,
   "outputs": [
    {
     "data": {
      "text/plain": "<AxesSubplot:title={'center':'per_square_meter_price'}, xlabel='[realty_type]'>"
     },
     "execution_count": 9,
     "metadata": {},
     "output_type": "execute_result"
    },
    {
     "data": {
      "text/plain": "<Figure size 432x288 with 1 Axes>",
      "image/png": "[encoded data removed]"
     },
     "metadata": {
      "needs_background": "light"
     },
     "output_type": "display_data"
    },
    {
     "data": {
      "text/plain": "<Figure size 432x288 with 1 Axes>",
      "image/png": "[encoded data removed]"
     },
     "metadata": {
      "needs_background": "light"
     },
     "output_type": "display_data"
    }
   ]
  },
  {
   "cell_type": "markdown",
   "metadata": {
    "id": "kzD8K-2lT8En"
   },
   "source": [
    "### price_type"
   ]
  },
  {
   "cell_type": "code",
   "metadata": {
    "colab": {
     "base_uri": "https://localhost:8080/",
     "height": 619
    },
    "id": "TgjhPoE6T90n",
    "executionInfo": {
     "status": "ok",
     "timestamp": 1632478716442,
     "user_tz": -180,
     "elapsed": 829,
     "user": {
      "displayName": "Информатика Прикладная",
      "photoUrl": "https://lh3.googleusercontent.com/a-/AOh14GgMo07jw7R_JW-UtnOStQLljeNb895P_QaAYr4S=s64",
      "userId": "15385437079936711398"
     }
    },
    "outputId": "3babbe1d-ef70-491e-cec5-79bc0ccb3ee2"
   },
   "source": [
    "#распределение данных\n",
    "df['price_type'].value_counts().plot(kind='bar')\n",
    "#зависимость целевой переменной\n",
    "df.boxplot(column=['per_square_meter_price'], by=['price_type'])"
   ],
   "execution_count": 10,
   "outputs": [
    {
     "data": {
      "text/plain": "<AxesSubplot:title={'center':'per_square_meter_price'}, xlabel='[price_type]'>"
     },
     "execution_count": 10,
     "metadata": {},
     "output_type": "execute_result"
    },
    {
     "data": {
      "text/plain": "<Figure size 432x288 with 1 Axes>",
      "image/png": "[encoded data removed]"
     },
     "metadata": {
      "needs_background": "light"
     },
     "output_type": "display_data"
    },
    {
     "data": {
      "text/plain": "<Figure size 432x288 with 1 Axes>",
      "image/png": "[encoded data removed]"
     },
     "metadata": {
      "needs_background": "light"
     },
     "output_type": "display_data"
    }
   ]
  },
  {
   "cell_type": "markdown",
   "metadata": {
    "id": "3xceIXwRUYt2"
   },
   "source": [
    "### date"
   ]
  },
  {
   "cell_type": "code",
   "metadata": {
    "id": "Sqr4yQO-UaNe",
    "executionInfo": {
     "status": "ok",
     "timestamp": 1632481175368,
     "user_tz": -180,
     "elapsed": 265,
     "user": {
      "displayName": "Информатика Прикладная",
      "photoUrl": "https://lh3.googleusercontent.com/a-/AOh14GgMo07jw7R_JW-UtnOStQLljeNb895P_QaAYr4S=s64",
      "userId": "15385437079936711398"
     }
    }
   },
   "source": [
    "df['date'] = df['date'].apply(lambda x: datetime.strptime(x, '%d.%m.%Y'))"
   ],
   "execution_count": 11,
   "outputs": []
  },
  {
   "cell_type": "code",
   "metadata": {
    "id": "CtgFkEtFdjAJ",
    "executionInfo": {
     "status": "ok",
     "timestamp": 1632481440764,
     "user_tz": -180,
     "elapsed": 256,
     "user": {
      "displayName": "Информатика Прикладная",
      "photoUrl": "https://lh3.googleusercontent.com/a-/AOh14GgMo07jw7R_JW-UtnOStQLljeNb895P_QaAYr4S=s64",
      "userId": "15385437079936711398"
     }
    }
   },
   "source": [
    "df['month'] = df['date'].apply(lambda x: x.month)"
   ],
   "execution_count": 12,
   "outputs": []
  },
  {
   "cell_type": "code",
   "metadata": {
    "id": "8RVt3R9MeVr6",
    "executionInfo": {
     "status": "ok",
     "timestamp": 1632481441948,
     "user_tz": -180,
     "elapsed": 2,
     "user": {
      "displayName": "Информатика Прикладная",
      "photoUrl": "https://lh3.googleusercontent.com/a-/AOh14GgMo07jw7R_JW-UtnOStQLljeNb895P_QaAYr4S=s64",
      "userId": "15385437079936711398"
     }
    }
   },
   "source": [
    "df['weekday'] = df['date'].apply(lambda x: x.day_name())"
   ],
   "execution_count": 13,
   "outputs": []
  },
  {
   "cell_type": "code",
   "metadata": {
    "colab": {
     "base_uri": "https://localhost:8080/",
     "height": 624
    },
    "id": "whDfMnuedthZ",
    "executionInfo": {
     "status": "ok",
     "timestamp": 1632481534047,
     "user_tz": -180,
     "elapsed": 705,
     "user": {
      "displayName": "Информатика Прикладная",
      "photoUrl": "https://lh3.googleusercontent.com/a-/AOh14GgMo07jw7R_JW-UtnOStQLljeNb895P_QaAYr4S=s64",
      "userId": "15385437079936711398"
     }
    },
    "outputId": "8fce306e-707a-42d5-8d19-47a60edf616b"
   },
   "source": [
    "#распределение данных\n",
    "df['month'].value_counts().plot(kind='bar')\n",
    "#зависимость целевой переменной\n",
    "df.boxplot(column=['per_square_meter_price'], by=['month'])"
   ],
   "execution_count": 14,
   "outputs": [
    {
     "data": {
      "text/plain": "<AxesSubplot:title={'center':'per_square_meter_price'}, xlabel='[month]'>"
     },
     "execution_count": 14,
     "metadata": {},
     "output_type": "execute_result"
    },
    {
     "data": {
      "text/plain": "<Figure size 432x288 with 1 Axes>",
      "image/png": "[encoded data removed]"
     },
     "metadata": {
      "needs_background": "light"
     },
     "output_type": "display_data"
    },
    {
     "data": {
      "text/plain": "<Figure size 432x288 with 1 Axes>",
      "image/png": "[encoded data removed]"
     },
     "metadata": {
      "needs_background": "light"
     },
     "output_type": "display_data"
    }
   ]
  },
  {
   "cell_type": "code",
   "metadata": {
    "id": "SBs2is2OI1oO",
    "executionInfo": {
     "status": "ok",
     "timestamp": 1632476615574,
     "user_tz": -180,
     "elapsed": 1,
     "user": {
      "displayName": "Информатика Прикладная",
      "photoUrl": "https://lh3.googleusercontent.com/a-/AOh14GgMo07jw7R_JW-UtnOStQLljeNb895P_QaAYr4S=s64",
      "userId": "15385437079936711398"
     }
    }
   },
   "source": [
    "#распределение данных\n",
    "df['weekday'].value_counts().plot(kind='bar')\n",
    "#зависимость целевой переменной\n",
    "df.boxplot(column=['per_square_meter_price'], by=['weekday'])"
   ],
   "execution_count": 15,
   "outputs": [
    {
     "data": {
      "text/plain": "<AxesSubplot:title={'center':'per_square_meter_price'}, xlabel='[weekday]'>"
     },
     "execution_count": 15,
     "metadata": {},
     "output_type": "execute_result"
    },
    {
     "data": {
      "text/plain": "<Figure size 432x288 with 1 Axes>",
      "image/png": "[encoded data removed]"
     },
     "metadata": {
      "needs_background": "light"
     },
     "output_type": "display_data"
    },
    {
     "data": {
      "text/plain": "<Figure size 432x288 with 1 Axes>",
      "image/png": "[encoded data removed]"
     },
     "metadata": {
      "needs_background": "light"
     },
     "output_type": "display_data"
    }
   ]
  },
  {
   "cell_type": "markdown",
   "metadata": {
    "id": "zmub4tXafO7R"
   },
   "source": [
    "### lng, lat"
   ]
  },
  {
   "cell_type": "code",
   "metadata": {
    "colab": {
     "base_uri": "https://localhost:8080/",
     "height": 558
    },
    "id": "-3TgHyKRfRR5",
    "executionInfo": {
     "status": "ok",
     "timestamp": 1632482007633,
     "user_tz": -180,
     "elapsed": 569,
     "user": {
      "displayName": "Информатика Прикладная",
      "photoUrl": "https://lh3.googleusercontent.com/a-/AOh14GgMo07jw7R_JW-UtnOStQLljeNb895P_QaAYr4S=s64",
      "userId": "15385437079936711398"
     }
    },
    "outputId": "893dbf91-e7a7-43b4-c245-9e27d58dfd21"
   },
   "source": [
    "df.plot(kind = 'scatter', x = 'lng', y = 'per_square_meter_price')\n",
    "df.plot(kind = 'scatter', x = 'lat', y = 'per_square_meter_price')"
   ],
   "execution_count": 16,
   "outputs": [
    {
     "data": {
      "text/plain": "<AxesSubplot:xlabel='lat', ylabel='per_square_meter_price'>"
     },
     "execution_count": 16,
     "metadata": {},
     "output_type": "execute_result"
    },
    {
     "data": {
      "text/plain": "<Figure size 432x288 with 1 Axes>",
      "image/png": "[encoded data removed]"
     },
     "metadata": {
      "needs_background": "light"
     },
     "output_type": "display_data"
    },
    {
     "data": {
      "text/plain": "<Figure size 432x288 with 1 Axes>",
      "image/png": "[encoded data removed]"
     },
     "metadata": {
      "needs_background": "light"
     },
     "output_type": "display_data"
    }
   ]
  },
  {
   "cell_type": "code",
   "metadata": {
    "colab": {
     "base_uri": "https://localhost:8080/",
     "height": 282
    },
    "id": "n1o7_qH-lrwu",
    "executionInfo": {
     "status": "ok",
     "timestamp": 1632483496959,
     "user_tz": -180,
     "elapsed": 286,
     "user": {
      "displayName": "Информатика Прикладная",
      "photoUrl": "https://lh3.googleusercontent.com/a-/AOh14GgMo07jw7R_JW-UtnOStQLljeNb895P_QaAYr4S=s64",
      "userId": "15385437079936711398"
     }
    },
    "outputId": "d04458aa-c6cb-4882-8108-c9c8b2698de3"
   },
   "source": [
    "#вывод зависимости цены от местоположения\n",
    "plt.scatter(df[\"lng\"], df[\"lat\"], c=df['per_square_meter_price'])"
   ],
   "execution_count": 17,
   "outputs": [
    {
     "data": {
      "text/plain": "<matplotlib.collections.PathCollection at 0x2145d8ae6d0>"
     },
     "execution_count": 17,
     "metadata": {},
     "output_type": "execute_result"
    },
    {
     "data": {
      "text/plain": "<Figure size 432x288 with 1 Axes>",
      "image/png": "[encoded data removed]"
     },
     "metadata": {
      "needs_background": "light"
     },
     "output_type": "display_data"
    }
   ]
  },
  {
   "cell_type": "markdown",
   "metadata": {
    "id": "grNkwdefmyL9"
   },
   "source": [
    "### osm_catering_points"
   ]
  },
  {
   "cell_type": "code",
   "metadata": {
    "id": "-vwLWzBVmza9"
   },
   "source": [
    "df.plot(kind = 'scatter', x = 'osm_catering_points_in_0.001', y = 'per_square_meter_price')\n",
    "df.plot(kind = 'scatter', x = 'osm_catering_points_in_0.001', y = 'per_square_meter_price')\n",
    "df.plot(kind = 'scatter', x = 'osm_catering_points_in_0.001', y = 'per_square_meter_price')\n",
    "df.plot(kind = 'scatter', x = 'osm_catering_points_in_0.001', y = 'per_square_meter_price')"
   ],
   "execution_count": 18,
   "outputs": [
    {
     "data": {
      "text/plain": "<AxesSubplot:xlabel='osm_catering_points_in_0.001', ylabel='per_square_meter_price'>"
     },
     "execution_count": 18,
     "metadata": {},
     "output_type": "execute_result"
    },
    {
     "data": {
      "text/plain": "<Figure size 432x288 with 1 Axes>",
      "image/png": "[encoded data removed]"
     },
     "metadata": {
      "needs_background": "light"
     },
     "output_type": "display_data"
    },
    {
     "data": {
      "text/plain": "<Figure size 432x288 with 1 Axes>",
      "image/png": "[encoded data removed]"
     },
     "metadata": {
      "needs_background": "light"
     },
     "output_type": "display_data"
    },
    {
     "data": {
      "text/plain": "<Figure size 432x288 with 1 Axes>",
      "image/png": "[encoded data removed]"
     },
     "metadata": {
      "needs_background": "light"
     },
     "output_type": "display_data"
    },
    {
     "data": {
      "text/plain": "<Figure size 432x288 with 1 Axes>",
      "image/png": "[encoded data removed]"
     },
     "metadata": {
      "needs_background": "light"
     },
     "output_type": "display_data"
    }
   ]
  },
  {
   "cell_type": "markdown",
   "metadata": {
    "id": "Qkw1P0-2I503"
   },
   "source": [
    "## Выделение нужных признаков"
   ]
  },
  {
   "cell_type": "code",
   "metadata": {
    "id": "OnZS409yI8Ll"
   },
   "source": [
    ""
   ],
   "execution_count": null,
   "outputs": []
  },
  {
   "cell_type": "markdown",
   "metadata": {
    "id": "Su9rI8-xIt0G"
   },
   "source": [
    "## One-hot-codding"
   ]
  },
  {
   "cell_type": "code",
   "metadata": {
    "id": "JEej-93PI_hV"
   },
   "source": [
    ""
   ],
   "execution_count": null,
   "outputs": []
  }
 ]
}