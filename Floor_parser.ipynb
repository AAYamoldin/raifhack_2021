{
 "cells": [
  {
   "cell_type": "code",
   "execution_count": 15,
   "id": "5738bd41",
   "metadata": {},
   "outputs": [],
   "source": [
    "import pandas as pd\n",
    "import matplotlib.pyplot as plt\n",
    "from datetime import datetime\n",
    "import seaborn as sns\n",
    "import openpyxl"
   ]
  },
  {
   "cell_type": "code",
   "execution_count": 2,
   "id": "50b39c70",
   "metadata": {},
   "outputs": [
    {
     "name": "stderr",
     "output_type": "stream",
     "text": [
      "C:\\anaconda\\envs\\Hack\\lib\\site-packages\\IPython\\core\\interactiveshell.py:3441: DtypeWarning: Columns (1) have mixed types.Specify dtype option on import or set low_memory=False.\n",
      "  exec(code_obj, self.user_global_ns, self.user_ns)\n"
     ]
    }
   ],
   "source": [
    "df = pd.read_csv('./Data/train.csv')"
   ]
  },
  {
   "cell_type": "code",
   "execution_count": 7,
   "id": "e7d0b1ad",
   "metadata": {},
   "outputs": [],
   "source": [
    "def floor_recognition(s):\n",
    "    if s[0] == \"-\":\n",
    "        return -1 * floor_recognition(s[1:])\n",
    "    if s.isdigit():\n",
    "        return int(s)\n",
    "    elif \"подв\" in s:\n",
    "        return -1\n",
    "    elif \"цок\" in s:\n",
    "        return 0\n",
    "    else:\n",
    "        return -100\n",
    "    \n",
    "def floor_parser(row):\n",
    "    #\"<=0\",  \"2-5\", \"6-10\", \"11-20\", \"20<\"\n",
    "    result = [0, 0, 0, 0, 0]\n",
    "    r = str(row).lower()\n",
    "    for stop_word in [\".0\", \"этажа\", \"этаж\", \"эт\", \" \", \"-й\"]:\n",
    "        r = r.replace(stop_word, \"\")\n",
    "    r = r.replace(\".\", \",\").split(\",\")[0]\n",
    "    floor = floor_recognition(r)\n",
    "    if floor < -99:\n",
    "        return pd.Series(result)\n",
    "    elif floor < 1:\n",
    "        result[0] = 1\n",
    "    elif floor <=5:\n",
    "        result[1] = 1\n",
    "    elif floor <= 10:\n",
    "        result[2] = 1\n",
    "    elif floor <= 20:\n",
    "        result[3] = 1\n",
    "    else:\n",
    "        result[4] = 1\n",
    "    return pd.Series(result)"
   ]
  },
  {
   "cell_type": "code",
   "execution_count": 8,
   "id": "dd9140f1",
   "metadata": {},
   "outputs": [],
   "source": [
    "df[[\"floor<0\", \"floor<=5\", \"floor<=10\", \"floor<=20\", \"floor>20\"]] = df[\"floor\"].apply(floor_parser)"
   ]
  },
  {
   "cell_type": "code",
   "execution_count": 26,
   "id": "8207a7ea",
   "metadata": {},
   "outputs": [
    {
     "data": {
      "text/plain": [
       "278870    657.836399\n",
       "278871    650.894278\n",
       "278901    900.129843\n",
       "279012    694.167865\n",
       "279118    652.694605\n",
       "279249    665.783440\n",
       "279409    657.493021\n",
       "279535    654.756046\n",
       "279663    668.110228\n",
       "279762    900.270000\n",
       "Name: osm_subway_closest_dist, dtype: float64"
      ]
     },
     "execution_count": 26,
     "metadata": {},
     "output_type": "execute_result"
    }
   ],
   "source": [
    "df[df[\"region\"] == \"Коми\"][\"osm_subway_closest_dist\"].tail(10)"
   ]
  },
  {
   "cell_type": "code",
   "execution_count": 16,
   "id": "a6f62a8c",
   "metadata": {},
   "outputs": [],
   "source": [
    "russian_states = pd.read_excel('Data/Russian_state.xlsx')"
   ]
  },
  {
   "cell_type": "code",
   "execution_count": 17,
   "id": "0a593b1e",
   "metadata": {
    "scrolled": true
   },
   "outputs": [],
   "source": [
    "def a(row):\n",
    "    aa = str(row)\n",
    "    bb = russian_states[ russian_states[\"region\"] == aa] [\"state\"]\n",
    "    if len(bb) > 0:\n",
    "        return bb.item()\n",
    "    else:\n",
    "        print ([aa])\n",
    "df[\"state\"] = df[\"region\"].apply(a)"
   ]
  },
  {
   "cell_type": "code",
   "execution_count": 30,
   "id": "43fa94f8",
   "metadata": {},
   "outputs": [],
   "source": [
    "X = df[[\"lat\", \"lng\", \"floor<0\", \"floor<=5\", \"floor<=10\", \"floor<=20\", \"floor>20\", \"realty_type\", \"total_square\", \"state\", \"price_type\", \"osm_amenity_points_in_0.005\", \"osm_building_points_in_0.005\", \"osm_catering_points_in_0.005\", \"osm_city_closest_dist\", \"osm_city_nearest_population\", \"osm_crossing_points_in_0.005\", \"osm_culture_points_in_0.005\", \"osm_finance_points_in_0.005\", \"osm_healthcare_points_in_0.005\", \"osm_historic_points_in_0.005\", \"osm_hotels_points_in_0.005\", \"osm_leisure_points_in_0.005\", \"osm_offices_points_in_0.005\", \"osm_shops_points_in_0.005\", \"osm_subway_closest_dist\", \"osm_train_stop_closest_dist\", \"osm_transport_stop_closest_dist\", \"osm_transport_stop_points_in_0.005\", \"reform_count_of_houses_500\", \"reform_house_population_500\", \"reform_mean_floor_count_500\", \"reform_mean_year_building_500\"]] "
   ]
  },
  {
   "cell_type": "code",
   "execution_count": 37,
   "id": "12314896",
   "metadata": {},
   "outputs": [],
   "source": [
    "X[\"reform_house_population_500\"].fillna( X[\"reform_house_population_500\"].mean(), inplace = True)\n",
    "X[\"reform_mean_floor_count_500\"].fillna( X[\"reform_mean_floor_count_500\"].mean(), inplace = True)\n",
    "X[\"reform_mean_year_building_500\"].fillna( X[\"reform_mean_year_building_500\"].mean(), inplace = True)"
   ]
  },
  {
   "cell_type": "code",
   "execution_count": 56,
   "id": "eeb86629",
   "metadata": {},
   "outputs": [],
   "source": [
    "X[\"target\"] = df[\"per_square_meter_price\"]"
   ]
  },
  {
   "cell_type": "code",
   "execution_count": 57,
   "id": "db0b1008",
   "metadata": {},
   "outputs": [
    {
     "data": {
      "text/html": [
       "<div>\n",
       "<style scoped>\n",
       "    .dataframe tbody tr th:only-of-type {\n",
       "        vertical-align: middle;\n",
       "    }\n",
       "\n",
       "    .dataframe tbody tr th {\n",
       "        vertical-align: top;\n",
       "    }\n",
       "\n",
       "    .dataframe thead th {\n",
       "        text-align: right;\n",
       "    }\n",
       "</style>\n",
       "<table border=\"1\" class=\"dataframe\">\n",
       "  <thead>\n",
       "    <tr style=\"text-align: right;\">\n",
       "      <th></th>\n",
       "      <th>lat</th>\n",
       "      <th>lng</th>\n",
       "      <th>floor&lt;0</th>\n",
       "      <th>floor&lt;=5</th>\n",
       "      <th>floor&lt;=10</th>\n",
       "      <th>floor&lt;=20</th>\n",
       "      <th>floor&gt;20</th>\n",
       "      <th>realty_type</th>\n",
       "      <th>total_square</th>\n",
       "      <th>price_type</th>\n",
       "      <th>...</th>\n",
       "      <th>state_Московская область</th>\n",
       "      <th>state_Приволжский</th>\n",
       "      <th>state_Санкт-Петербург</th>\n",
       "      <th>state_Северо-Западный</th>\n",
       "      <th>state_Северо-Кавказский</th>\n",
       "      <th>state_Сибирский</th>\n",
       "      <th>state_Уральский</th>\n",
       "      <th>state_Центральный</th>\n",
       "      <th>state_Южный</th>\n",
       "      <th>target</th>\n",
       "    </tr>\n",
       "  </thead>\n",
       "  <tbody>\n",
       "    <tr>\n",
       "      <th>0</th>\n",
       "      <td>57.998207</td>\n",
       "      <td>56.292797</td>\n",
       "      <td>0</td>\n",
       "      <td>0</td>\n",
       "      <td>0</td>\n",
       "      <td>0</td>\n",
       "      <td>0</td>\n",
       "      <td>10</td>\n",
       "      <td>32.0</td>\n",
       "      <td>0</td>\n",
       "      <td>...</td>\n",
       "      <td>0</td>\n",
       "      <td>1</td>\n",
       "      <td>0</td>\n",
       "      <td>0</td>\n",
       "      <td>0</td>\n",
       "      <td>0</td>\n",
       "      <td>0</td>\n",
       "      <td>0</td>\n",
       "      <td>0</td>\n",
       "      <td>139937.500000</td>\n",
       "    </tr>\n",
       "    <tr>\n",
       "      <th>1</th>\n",
       "      <td>55.574284</td>\n",
       "      <td>39.543835</td>\n",
       "      <td>0</td>\n",
       "      <td>0</td>\n",
       "      <td>0</td>\n",
       "      <td>0</td>\n",
       "      <td>0</td>\n",
       "      <td>10</td>\n",
       "      <td>280.0</td>\n",
       "      <td>0</td>\n",
       "      <td>...</td>\n",
       "      <td>1</td>\n",
       "      <td>0</td>\n",
       "      <td>0</td>\n",
       "      <td>0</td>\n",
       "      <td>0</td>\n",
       "      <td>0</td>\n",
       "      <td>0</td>\n",
       "      <td>0</td>\n",
       "      <td>0</td>\n",
       "      <td>60410.714286</td>\n",
       "    </tr>\n",
       "    <tr>\n",
       "      <th>2</th>\n",
       "      <td>57.619140</td>\n",
       "      <td>39.850525</td>\n",
       "      <td>0</td>\n",
       "      <td>0</td>\n",
       "      <td>0</td>\n",
       "      <td>0</td>\n",
       "      <td>0</td>\n",
       "      <td>110</td>\n",
       "      <td>297.4</td>\n",
       "      <td>0</td>\n",
       "      <td>...</td>\n",
       "      <td>0</td>\n",
       "      <td>0</td>\n",
       "      <td>0</td>\n",
       "      <td>0</td>\n",
       "      <td>0</td>\n",
       "      <td>0</td>\n",
       "      <td>0</td>\n",
       "      <td>1</td>\n",
       "      <td>0</td>\n",
       "      <td>45164.761264</td>\n",
       "    </tr>\n",
       "    <tr>\n",
       "      <th>3</th>\n",
       "      <td>53.897083</td>\n",
       "      <td>87.108604</td>\n",
       "      <td>0</td>\n",
       "      <td>0</td>\n",
       "      <td>0</td>\n",
       "      <td>0</td>\n",
       "      <td>0</td>\n",
       "      <td>110</td>\n",
       "      <td>190.0</td>\n",
       "      <td>0</td>\n",
       "      <td>...</td>\n",
       "      <td>0</td>\n",
       "      <td>0</td>\n",
       "      <td>0</td>\n",
       "      <td>0</td>\n",
       "      <td>0</td>\n",
       "      <td>1</td>\n",
       "      <td>0</td>\n",
       "      <td>0</td>\n",
       "      <td>0</td>\n",
       "      <td>28805.263158</td>\n",
       "    </tr>\n",
       "    <tr>\n",
       "      <th>4</th>\n",
       "      <td>55.802590</td>\n",
       "      <td>37.487110</td>\n",
       "      <td>0</td>\n",
       "      <td>0</td>\n",
       "      <td>0</td>\n",
       "      <td>0</td>\n",
       "      <td>0</td>\n",
       "      <td>10</td>\n",
       "      <td>60.2</td>\n",
       "      <td>0</td>\n",
       "      <td>...</td>\n",
       "      <td>0</td>\n",
       "      <td>0</td>\n",
       "      <td>0</td>\n",
       "      <td>0</td>\n",
       "      <td>0</td>\n",
       "      <td>0</td>\n",
       "      <td>0</td>\n",
       "      <td>0</td>\n",
       "      <td>0</td>\n",
       "      <td>13222.591362</td>\n",
       "    </tr>\n",
       "  </tbody>\n",
       "</table>\n",
       "<p>5 rows × 44 columns</p>\n",
       "</div>"
      ],
      "text/plain": [
       "         lat        lng  floor<0  floor<=5  floor<=10  floor<=20  floor>20  \\\n",
       "0  57.998207  56.292797        0         0          0          0         0   \n",
       "1  55.574284  39.543835        0         0          0          0         0   \n",
       "2  57.619140  39.850525        0         0          0          0         0   \n",
       "3  53.897083  87.108604        0         0          0          0         0   \n",
       "4  55.802590  37.487110        0         0          0          0         0   \n",
       "\n",
       "   realty_type  total_square  price_type  ...  state_Московская область  \\\n",
       "0           10          32.0           0  ...                         0   \n",
       "1           10         280.0           0  ...                         1   \n",
       "2          110         297.4           0  ...                         0   \n",
       "3          110         190.0           0  ...                         0   \n",
       "4           10          60.2           0  ...                         0   \n",
       "\n",
       "   state_Приволжский  state_Санкт-Петербург  state_Северо-Западный  \\\n",
       "0                  1                      0                      0   \n",
       "1                  0                      0                      0   \n",
       "2                  0                      0                      0   \n",
       "3                  0                      0                      0   \n",
       "4                  0                      0                      0   \n",
       "\n",
       "   state_Северо-Кавказский  state_Сибирский  state_Уральский  \\\n",
       "0                        0                0                0   \n",
       "1                        0                0                0   \n",
       "2                        0                0                0   \n",
       "3                        0                1                0   \n",
       "4                        0                0                0   \n",
       "\n",
       "   state_Центральный  state_Южный         target  \n",
       "0                  0            0  139937.500000  \n",
       "1                  0            0   60410.714286  \n",
       "2                  1            0   45164.761264  \n",
       "3                  0            0   28805.263158  \n",
       "4                  0            0   13222.591362  \n",
       "\n",
       "[5 rows x 44 columns]"
      ]
     },
     "execution_count": 57,
     "metadata": {},
     "output_type": "execute_result"
    }
   ],
   "source": [
    "X.head()"
   ]
  },
  {
   "cell_type": "code",
   "execution_count": 47,
   "id": "2217d97f",
   "metadata": {},
   "outputs": [],
   "source": [
    "X = pd.get_dummies(X, drop_first=True) "
   ]
  },
  {
   "cell_type": "code",
   "execution_count": 60,
   "id": "eab65a98",
   "metadata": {},
   "outputs": [],
   "source": [
    "X.to_csv('./Data/train_parse1.csv', index = False)"
   ]
  }
 ],
 "metadata": {
  "kernelspec": {
   "display_name": "Python 3 (ipykernel)",
   "language": "python",
   "name": "python3"
  },
  "language_info": {
   "codemirror_mode": {
    "name": "ipython",
    "version": 3
   },
   "file_extension": ".py",
   "mimetype": "text/x-python",
   "name": "python",
   "nbconvert_exporter": "python",
   "pygments_lexer": "ipython3",
   "version": "3.8.11"
  }
 },
 "nbformat": 4,
 "nbformat_minor": 5
}
